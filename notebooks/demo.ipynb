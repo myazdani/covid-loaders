{
 "cells": [
  {
   "cell_type": "code",
   "execution_count": 1,
   "metadata": {},
   "outputs": [],
   "source": [
    "import sys\n",
    "sys.path.append(\"../\")\n",
    "\n",
    "from covid_loader.covid_loader import *\n",
    "from covid_loader.collate_funcs import *"
   ]
  },
  {
   "cell_type": "markdown",
   "metadata": {},
   "source": [
    "## Create a CovidDataset"
   ]
  },
  {
   "cell_type": "code",
   "execution_count": 2,
   "metadata": {},
   "outputs": [
    {
     "name": "stdout",
     "output_type": "stream",
     "text": [
      "CPU times: user 20.3 s, sys: 1.16 s, total: 21.4 s\n",
      "Wall time: 22.6 s\n"
     ]
    }
   ],
   "source": [
    "%%time\n",
    "ds_train = USCasesDataset(root = \"../data\", download = True,\n",
    "                          Province_State= [\"California\", \"New York\"],\n",
    "                          remove_negative_days = True, # remove \"early\" days of pandemic \n",
    "                          date_range=(None, pd.to_datetime(\"2020-08-01\")))\n",
    "\n",
    "\n",
    "ds_valid = USCasesDataset(root = \"../data\", download = False, \n",
    "                          Province_State= [\"California\", \"New York\"], \n",
    "                          remove_negative_days = True,\n",
    "                          date_range=(pd.to_datetime(\"2020-08-02\"), \n",
    "                                      pd.to_datetime(\"2020-08-15\")))\n",
    "\n",
    "\n",
    "ds_test = USCasesDataset(root = \"../data\", download = False, \n",
    "                         Province_State= [\"California\", \"New York\"], \n",
    "                         remove_negative_days = True,\n",
    "                         date_range=(pd.to_datetime(\"2020-08-16\"),\n",
    "                                     None))\n"
   ]
  },
  {
   "cell_type": "code",
   "execution_count": 3,
   "metadata": {},
   "outputs": [
    {
     "data": {
      "text/plain": [
       "(124, 124, 124)"
      ]
     },
     "execution_count": 3,
     "metadata": {},
     "output_type": "execute_result"
    }
   ],
   "source": [
    "len(ds_train), len(ds_valid), len(ds_test)"
   ]
  },
  {
   "cell_type": "markdown",
   "metadata": {},
   "source": [
    "## Create DataLoader"
   ]
  },
  {
   "cell_type": "code",
   "execution_count": 4,
   "metadata": {},
   "outputs": [],
   "source": [
    "from torch.utils.data import DataLoader"
   ]
  },
  {
   "cell_type": "code",
   "execution_count": 5,
   "metadata": {},
   "outputs": [
    {
     "name": "stderr",
     "output_type": "stream",
     "text": [
      "/anaconda3/envs/covid-torch/lib/python3.8/site-packages/torch/tensor.py:721: UserWarning: Named tensors and all their associated APIs are an experimental feature and subject to change. Please do not use them for anything important until they are released as stable. (Triggered internally at  /Users/distiller/project/conda/conda-bld/pytorch_1595629449223/work/c10/core/TensorImpl.h:840.)\n",
      "  return super(Tensor, self).rename_(names)\n"
     ]
    }
   ],
   "source": [
    "tr_loader = list(DataLoader(ds_train, num_workers=0, batch_size = 1,\n",
    "                            collate_fn=features_collate))\n",
    "\n",
    "vl_loader = list(DataLoader(ds_valid, num_workers=0, batch_size = 1,\n",
    "                            collate_fn=features_collate))\n",
    "\n",
    "ts_loader = list(DataLoader(ds_test, num_workers=0, batch_size = 1,\n",
    "                            collate_fn=features_collate))"
   ]
  },
  {
   "cell_type": "markdown",
   "metadata": {},
   "source": [
    "## Create DataLoader with windowed features"
   ]
  },
  {
   "cell_type": "code",
   "execution_count": 6,
   "metadata": {},
   "outputs": [],
   "source": [
    "tr_loader = list(DataLoader(ds_train, num_workers=0, batch_size = 1,\n",
    "                            collate_fn=windowed_features_collate))\n"
   ]
  },
  {
   "cell_type": "markdown",
   "metadata": {},
   "source": [
    "## Train a baseline model"
   ]
  },
  {
   "cell_type": "code",
   "execution_count": 7,
   "metadata": {},
   "outputs": [],
   "source": [
    "tr_loader = DataLoader(ds_train, num_workers=0, batch_size = 1,\n",
    "                            collate_fn=features_collate)\n",
    "\n",
    "vl_loader = DataLoader(ds_valid, num_workers=0, batch_size = 1,\n",
    "                            collate_fn=features_collate)\n",
    "\n",
    "ts_loader = DataLoader(ds_test, num_workers=0, batch_size = 1,\n",
    "                            collate_fn=features_collate)"
   ]
  },
  {
   "cell_type": "code",
   "execution_count": 8,
   "metadata": {},
   "outputs": [],
   "source": [
    "from networks import Ridge"
   ]
  },
  {
   "cell_type": "code",
   "execution_count": 9,
   "metadata": {},
   "outputs": [],
   "source": [
    "losses = {}\n",
    "for tr_batch, vl_batch, ts_batch in zip(tr_loader, vl_loader, ts_loader):\n",
    "    if tr_batch[1][0].shape[0] < 5:\n",
    "        continue\n",
    "    X_tr, y_tr = tr_batch.features, tr_batch.targets\n",
    "    X_vl, y_vl = vl_batch.features, vl_batch.targets\n",
    "    X_ts, y_ts = ts_batch.features, ts_batch.targets\n",
    "\n",
    "    model = Ridge(alpha = 1e-3)\n",
    "    model.fit(X_tr.squeeze(), y_tr)\n",
    "  \n",
    "\n",
    "    tr_loss = torch.nn.functional.l1_loss(model.predict(X_tr.squeeze()), \n",
    "                                          y_tr.rename(None).view(-1,1)).item()\n",
    "    vl_loss = torch.nn.functional.l1_loss(model.predict(X_vl.squeeze()), \n",
    "                                          y_vl.rename(None).view(-1,1)).item()\n",
    "    ts_loss = torch.nn.functional.l1_loss(model.predict(X_ts.squeeze()), \n",
    "                                          y_ts.rename(None).view(-1,1)).item()\n",
    "    losses[tr_batch[0][0]] = [tr_loss, vl_loss, ts_loss]\n",
    " "
   ]
  },
  {
   "cell_type": "markdown",
   "metadata": {},
   "source": [
    "# Visualize Results"
   ]
  },
  {
   "cell_type": "code",
   "execution_count": 10,
   "metadata": {},
   "outputs": [],
   "source": [
    "df_losses = pd.DataFrame.from_dict(losses, orient = \"index\", \n",
    "                                   columns = [\"train\", \"valid\", \"test\"])"
   ]
  },
  {
   "cell_type": "code",
   "execution_count": 11,
   "metadata": {},
   "outputs": [],
   "source": [
    "import matplotlib.pyplot as plt"
   ]
  },
  {
   "cell_type": "code",
   "execution_count": 12,
   "metadata": {},
   "outputs": [
    {
     "data": {
      "image/png": "[encoded data removed]",
      "text/plain": [
       "<Figure size 432x288 with 1 Axes>"
      ]
     },
     "metadata": {
      "needs_background": "light"
     },
     "output_type": "display_data"
    }
   ],
   "source": [
    "plt.plot(np.ones(df_losses.shape[0]) + .03*np.random.randn(df_losses.shape[0]), \n",
    "         df_losses.iloc[:,0], '.')\n",
    "plt.plot(2*np.ones(df_losses.shape[0]) + .03*np.random.randn(df_losses.shape[0]), \n",
    "         df_losses.iloc[:,1], '.')\n",
    "plt.plot(3*np.ones(df_losses.shape[0]) + .03*np.random.randn(df_losses.shape[0]), \n",
    "         df_losses.iloc[:,2], '.')\n",
    "\n",
    "plt.xticks([1,2,3], [\"Train\", \"Validation\", \"Test\"]);"
   ]
  },
  {
   "cell_type": "code",
   "execution_count": null,
   "metadata": {},
   "outputs": [],
   "source": []
  }
 ],
 "metadata": {
  "kernelspec": {
   "display_name": "Python 3",
   "language": "python",
   "name": "python3"
  },
  "language_info": {
   "codemirror_mode": {
    "name": "ipython",
    "version": 3
   },
   "file_extension": ".py",
   "mimetype": "text/x-python",
   "name": "python",
   "nbconvert_exporter": "python",
   "pygments_lexer": "ipython3",
   "version": "3.8.5"
  }
 },
 "nbformat": 4,
 "nbformat_minor": 4
}
