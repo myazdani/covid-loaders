{
 "cells": [
  {
   "cell_type": "code",
   "execution_count": 1,
   "metadata": {},
   "outputs": [],
   "source": [
    "from torch.utils.data import DataLoader\n",
    "import numpy as np\n",
    "import matplotlib.pyplot as plt"
   ]
  },
  {
   "cell_type": "code",
   "execution_count": 2,
   "metadata": {},
   "outputs": [],
   "source": [
    "from covid_loader.covid_loader import *"
   ]
  },
  {
   "cell_type": "code",
   "execution_count": 3,
   "metadata": {},
   "outputs": [
    {
     "name": "stdout",
     "output_type": "stream",
     "text": [
      "CPU times: user 18.3 s, sys: 1.03 s, total: 19.3 s\n",
      "Wall time: 19.3 s\n"
     ]
    }
   ],
   "source": [
    "%%time\n",
    "ds_train = USCasesDataset(root = \"./data\", download = False, \n",
    "                          Province_State= [\"California\"], \n",
    "                          remove_negative_days = True,\n",
    "                          date_range=(None, pd.to_datetime(\"2020-08-01\")))\n",
    "\n",
    "\n",
    "ds_valid = USCasesDataset(root = \"./data\", download = False, \n",
    "                          Province_State= [\"California\"], \n",
    "                          remove_negative_days = True,\n",
    "                          date_range=(pd.to_datetime(\"2020-08-02\"), \n",
    "                                      pd.to_datetime(\"2020-08-10\")))\n",
    "\n",
    "\n",
    "ds_test = USCasesDataset(root = \"./data\", download = False, \n",
    "                         Province_State= [\"California\"], \n",
    "                         remove_negative_days = True,\n",
    "                         date_range=(pd.to_datetime(\"2020-08-11\"),\n",
    "                                     None))\n"
   ]
  },
  {
   "cell_type": "code",
   "execution_count": 4,
   "metadata": {},
   "outputs": [
    {
     "data": {
      "text/plain": [
       "(55, 55, 55)"
      ]
     },
     "execution_count": 4,
     "metadata": {},
     "output_type": "execute_result"
    }
   ],
   "source": [
    "len(ds_train), len(ds_valid), len(ds_test)"
   ]
  },
  {
   "cell_type": "code",
   "execution_count": 5,
   "metadata": {},
   "outputs": [],
   "source": [
    "def my_collate(batch):\n",
    "    data = [item[0] for item in batch]\n",
    "    target = [item[1] for item in batch]\n",
    "    return [data, target]"
   ]
  },
  {
   "cell_type": "code",
   "execution_count": 6,
   "metadata": {},
   "outputs": [],
   "source": [
    "tr_loader = DataLoader(ds_train, num_workers=0, batch_size = 1,\n",
    "                            collate_fn=my_collate)\n",
    "\n",
    "\n",
    "vl_loader = DataLoader(ds_valid, num_workers=0, batch_size = 1,\n",
    "                            collate_fn=my_collate)\n",
    "\n",
    "ts_loader = DataLoader(ds_test, num_workers=0, batch_size = 1,\n",
    "                            collate_fn=my_collate)"
   ]
  },
  {
   "cell_type": "code",
   "execution_count": 7,
   "metadata": {},
   "outputs": [],
   "source": [
    "def prep_data(input_df):\n",
    "    weekend = (((input_df[\"date\"].dt.dayofweek == 5) | \n",
    "                (input_df[\"date\"].dt.dayofweek == 6)).\n",
    "               astype(int).values[:,np.newaxis])\n",
    "    geo = input_df[[\"Lat\", \"Long_\"]].values\n",
    "    with np.errstate(all='ignore'):\n",
    "        case_stats = np.log10(1.1+input_df[[\"num_cases\", \n",
    "                                            \"num_days\", \n",
    "                                            \"new_cases\"]]).fillna(-1)\n",
    "\n",
    "    features = np.hstack((case_stats, geo, weekend))\n",
    "    \n",
    "    X = torch.tensor(features[:-1,:], dtype = torch.float32)\n",
    "    y = torch.tensor(np.log10(1+ input_df[[\"num_cases\"]].values)[1:,:],\n",
    "                     dtype = torch.float32)\n",
    "    \n",
    "    return X, y"
   ]
  },
  {
   "cell_type": "code",
   "execution_count": 8,
   "metadata": {},
   "outputs": [],
   "source": [
    "from torch import nn\n",
    "import torch.nn.functional as F\n",
    "\n",
    "import torch\n",
    "\n",
    "class TorchRidge:\n",
    "    def __init__(self, alpha = 0, fit_intercept = True):\n",
    "        self.alpha = alpha\n",
    "        self.fit_intercept = fit_intercept\n",
    "    def fit(self, X, y):\n",
    "        if self.fit_intercept:\n",
    "            X = torch.cat([torch.ones(X.shape[0], 1), X], dim = 1)\n",
    "        # Solving Xw = y with Normal equations:\n",
    "        # X^{T}Xw = X^{T}y \n",
    "        lhs = X.T @ X \n",
    "        rhs = X.T @ y\n",
    "        if self.alpha == 0:\n",
    "            self.w, _ = torch.lstsq(rhs, lhs)\n",
    "        else:\n",
    "            ridge = self.alpha*torch.eye(lhs.shape[0])\n",
    "            self.w, _ = torch.lstsq(rhs, lhs + ridge)\n",
    "    def predict(self, X):\n",
    "        if self.fit_intercept:\n",
    "            X = torch.cat([torch.ones(X.shape[0], 1), X], dim = 1)\n",
    "        return X @ self.w"
   ]
  },
  {
   "cell_type": "code",
   "execution_count": 9,
   "metadata": {},
   "outputs": [],
   "source": [
    "losses = {}\n",
    "for tr_item, vl_item, ts_item in zip(tr_loader, vl_loader, ts_loader):\n",
    "    if tr_item[1][0].shape[0] < 5:\n",
    "        continue\n",
    "    X_tr, y_tr = prep_data(tr_item[1][0])\n",
    "    X_vl, y_vl = prep_data(vl_item[1][0])\n",
    "    X_ts, y_ts = prep_data(ts_item[1][0])\n",
    "\n",
    "    model = TorchRidge(alpha = 1e-3)\n",
    "    model.fit(X_tr, y_tr)\n",
    "\n",
    "    tr_loss = torch.nn.functional.l1_loss(model.predict(X_tr), y_tr).item()\n",
    "    vl_loss = torch.nn.functional.l1_loss(model.predict(X_vl), y_vl).item()\n",
    "    ts_loss = torch.nn.functional.l1_loss(model.predict(X_ts), y_ts).item()\n",
    "    \n",
    "    losses[tr_item[0][0]] = [tr_loss, vl_loss, ts_loss]"
   ]
  },
  {
   "cell_type": "code",
   "execution_count": 10,
   "metadata": {},
   "outputs": [],
   "source": [
    "df_losses = pd.DataFrame.from_dict(losses, orient = \"index\", \n",
    "                                   columns = [\"train\", \"valid\", \"test\"])"
   ]
  },
  {
   "cell_type": "code",
   "execution_count": 11,
   "metadata": {},
   "outputs": [
    {
     "data": {
      "text/plain": [
       "[<matplotlib.lines.Line2D at 0x12299f3a0>]"
      ]
     },
     "execution_count": 11,
     "metadata": {},
     "output_type": "execute_result"
    },
    {
     "data": {
      "image/png": "[encoded data removed]",
      "text/plain": [
       "<Figure size 432x288 with 1 Axes>"
      ]
     },
     "metadata": {
      "needs_background": "light"
     },
     "output_type": "display_data"
    }
   ],
   "source": [
    "plt.plot(np.ones(df_losses.shape[0]) + .03*np.random.randn(df_losses.shape[0]), \n",
    "         df_losses.iloc[:,0], '.')\n",
    "plt.plot(2*np.ones(df_losses.shape[0]) + .03*np.random.randn(df_losses.shape[0]), \n",
    "         df_losses.iloc[:,1], '.')\n",
    "plt.plot(3*np.ones(df_losses.shape[0]) + .03*np.random.randn(df_losses.shape[0]), \n",
    "         df_losses.iloc[:,2], '.')"
   ]
  },
  {
   "cell_type": "code",
   "execution_count": null,
   "metadata": {},
   "outputs": [],
   "source": []
  },
  {
   "cell_type": "code",
   "execution_count": null,
   "metadata": {},
   "outputs": [],
   "source": []
  }
 ],
 "metadata": {
  "kernelspec": {
   "display_name": "Python 3",
   "language": "python",
   "name": "python3"
  },
  "language_info": {
   "codemirror_mode": {
    "name": "ipython",
    "version": 3
   },
   "file_extension": ".py",
   "mimetype": "text/x-python",
   "name": "python",
   "nbconvert_exporter": "python",
   "pygments_lexer": "ipython3",
   "version": "3.8.5"
  }
 },
 "nbformat": 4,
 "nbformat_minor": 4
}
